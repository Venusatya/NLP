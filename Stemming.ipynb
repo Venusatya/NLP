{
  "nbformat": 4,
  "nbformat_minor": 0,
  "metadata": {
    "colab": {
      "provenance": []
    },
    "kernelspec": {
      "name": "python3",
      "display_name": "Python 3"
    },
    "language_info": {
      "name": "python"
    }
  },
  "cells": [
    {
      "cell_type": "markdown",
      "source": [
        "### **STEMMING:**\n",
        "\n",
        "It is the process of reducing infected words to their stem. Stemming with replace words “history” and “historical” with “histori”. Similarly, for the words finally and final.\n",
        "\n",
        "Stemming is the process of removing the last few characters of a given word, to obtain a shorter form, even if that form doesn’t have any meaning.\n",
        "\n",
        "It is the process of producing morphological variants of a root/base word. Stemming programs are commonly referred to as stemming algorithms or stemmers. A stemming algorithm reduces the words “chocolates”, “chocolatey”, and “choco” to the root word, “chocolate” and “retrieval”, “retrieved”, “retrieves” reduce to the stem “retrieve”."
      ],
      "metadata": {
        "id": "ifM8ZI_eWSd1"
      }
    },
    {
      "cell_type": "code",
      "source": [
        "import nltk\n",
        "nltk.download('punkt')\n",
        "from nltk.stem import PorterStemmer"
      ],
      "metadata": {
        "colab": {
          "base_uri": "https://localhost:8080/"
        },
        "id": "XacL9rk3WVuR",
        "outputId": "ba2d33e8-eeb9-4212-c0a4-8765b73ed5a5"
      },
      "execution_count": 1,
      "outputs": [
        {
          "output_type": "stream",
          "name": "stderr",
          "text": [
            "[nltk_data] Downloading package punkt to /root/nltk_data...\n",
            "[nltk_data]   Unzipping tokenizers/punkt.zip.\n"
          ]
        }
      ]
    },
    {
      "cell_type": "code",
      "execution_count": 2,
      "metadata": {
        "id": "9eqMgdrCWDxc"
      },
      "outputs": [],
      "source": [
        "paragraph = \"\"\"I have three visions for India. In 3000 years of our history, people from all over\n",
        "               the world have come and invaded us, captured our lands, conquered our minds.\n",
        "               From Alexander onwards, the Greeks, the Turks, the Moguls, the Portuguese, the British,\n",
        "               the French, the Dutch, all of them came and looted us, took over what was ours.\n",
        "               Yet we have not done this to any other nation. We have not conquered anyone.\n",
        "               We have not grabbed their land, their culture,\n",
        "               their history and tried to enforce our way of life on them.\n",
        "               \"\"\""
      ]
    },
    {
      "cell_type": "code",
      "source": [
        "ps =PorterStemmer()\n",
        "\n",
        "ps.stem(paragraph)"
      ],
      "metadata": {
        "colab": {
          "base_uri": "https://localhost:8080/",
          "height": 104
        },
        "id": "hXwVCCc_Wt36",
        "outputId": "8648e8bb-eb98-4720-9b58-940f082ab702"
      },
      "execution_count": 3,
      "outputs": [
        {
          "output_type": "execute_result",
          "data": {
            "text/plain": [
              "'i have three visions for india. in 3000 years of our history, people from all over \\n               the world have come and invaded us, captured our lands, conquered our minds. \\n               from alexander onwards, the greeks, the turks, the moguls, the portuguese, the british,\\n               the french, the dutch, all of them came and looted us, took over what was ours. \\n               yet we have not done this to any other nation. we have not conquered anyone. \\n               we have not grabbed their land, their culture, \\n               their history and tried to enforce our way of life on them. \\n               '"
            ],
            "application/vnd.google.colaboratory.intrinsic+json": {
              "type": "string"
            }
          },
          "metadata": {},
          "execution_count": 3
        }
      ]
    },
    {
      "cell_type": "code",
      "source": [
        "from nltk.stem import PorterStemmer\n",
        "e_words= [\"wait\", \"waiting\", \"waited\", \"waits\"]\n",
        "ps =PorterStemmer()\n",
        "for w in e_words:\n",
        "    rootWord=ps.stem(w)\n",
        "    print(w,\":\",rootWord)"
      ],
      "metadata": {
        "colab": {
          "base_uri": "https://localhost:8080/"
        },
        "id": "Joa49t-gWzml",
        "outputId": "f9c72e4e-05b6-4849-c0f6-61c80ad557f4"
      },
      "execution_count": 4,
      "outputs": [
        {
          "output_type": "stream",
          "name": "stdout",
          "text": [
            "wait : wait\n",
            "waiting : wait\n",
            "waited : wait\n",
            "waits : wait\n"
          ]
        }
      ]
    },
    {
      "cell_type": "code",
      "source": [
        "from nltk.stem import PorterStemmer\n",
        "from nltk.tokenize import sent_tokenize, word_tokenize\n",
        "sentence=\"Hello, It is very easy to learn python Language and NLP.\"\n",
        "words = word_tokenize(sentence)\n",
        "print(words)\n",
        "ps = PorterStemmer()\n",
        "for w in words:\n",
        "\trootWord=ps.stem(w)\n",
        "\tprint(w,\":\",rootWord)"
      ],
      "metadata": {
        "colab": {
          "base_uri": "https://localhost:8080/"
        },
        "id": "36B08pDhW_2z",
        "outputId": "5bd531f6-eda1-49d0-ae0a-4f768a25d18b"
      },
      "execution_count": 5,
      "outputs": [
        {
          "output_type": "stream",
          "name": "stdout",
          "text": [
            "['Hello', ',', 'It', 'is', 'very', 'easy', 'to', 'learn', 'python', 'Language', 'and', 'NLP', '.']\n",
            "Hello : hello\n",
            ", : ,\n",
            "It : it\n",
            "is : is\n",
            "very : veri\n",
            "easy : easi\n",
            "to : to\n",
            "learn : learn\n",
            "python : python\n",
            "Language : languag\n",
            "and : and\n",
            "NLP : nlp\n",
            ". : .\n"
          ]
        }
      ]
    }
  ]
}