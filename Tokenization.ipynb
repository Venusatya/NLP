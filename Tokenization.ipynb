{
  "nbformat": 4,
  "nbformat_minor": 0,
  "metadata": {
    "colab": {
      "provenance": []
    },
    "kernelspec": {
      "name": "python3",
      "display_name": "Python 3"
    },
    "language_info": {
      "name": "python"
    }
  },
  "cells": [
    {
      "cell_type": "markdown",
      "source": [
        "Tokenization in Natural Language Processing (NLP) is the process of breaking down text into smaller units, such as words, subwords, or characters. These smaller units, known as tokens, are the fundamental building blocks that a machine learning model processes to understand and analyze text data. Tokenization is a crucial first step in many NLP tasks like text classification, sentiment analysis, and machine translation."
      ],
      "metadata": {
        "id": "WkN9KZJZUOyn"
      }
    },
    {
      "cell_type": "markdown",
      "source": [
        "**Importance of Tokenization:**\n",
        "\n",
        "**Preprocessing Step:** It simplifies the text into manageable units for further analysis.\n",
        "\n",
        "**Handles Complexity:** Helps models understand language structure and deal with variations in word forms or new/rare words.\n",
        "\n",
        "**Efficient Text Representation:** Transforms textual data into numeric formats that can be fed into machine learning models."
      ],
      "metadata": {
        "id": "aq2bbAkqUXx0"
      }
    },
    {
      "cell_type": "code",
      "execution_count": 2,
      "metadata": {
        "colab": {
          "base_uri": "https://localhost:8080/"
        },
        "id": "xTQoqCGKS52J",
        "outputId": "06ba8578-7823-4c49-ad76-8864492b3bf1"
      },
      "outputs": [
        {
          "output_type": "stream",
          "name": "stderr",
          "text": [
            "[nltk_data] Downloading package punkt to /root/nltk_data...\n",
            "[nltk_data]   Unzipping tokenizers/punkt.zip.\n"
          ]
        }
      ],
      "source": [
        "import nltk\n",
        "nltk.download('punkt')\n",
        "from nltk.tokenize import word_tokenize"
      ]
    },
    {
      "cell_type": "code",
      "source": [
        "paragraph ='''Natural language processing (NLP) is a subfield of computer science and especially artificial intelligence. It is primarily concerned with providing computers with the ability to process data encoded in natural language and is thus closely related to information retrieval, knowledge representation and computational linguistics, a subfield of linguistics. Typically data is collected in text corpora, using either rule-based, statistical or neural-based approaches in machine learning and deep learning.'''"
      ],
      "metadata": {
        "id": "Q7rRKGWCUm6S"
      },
      "execution_count": 3,
      "outputs": []
    },
    {
      "cell_type": "code",
      "source": [
        "# Tokenizing sentences\n",
        "sentences = nltk.sent_tokenize(paragraph)\n",
        "\n",
        "# Tokenizing words\n",
        "words = nltk.word_tokenize(paragraph)"
      ],
      "metadata": {
        "id": "dI1Ua5PTVYNm"
      },
      "execution_count": 4,
      "outputs": []
    },
    {
      "cell_type": "code",
      "source": [
        "sentences"
      ],
      "metadata": {
        "colab": {
          "base_uri": "https://localhost:8080/"
        },
        "id": "9dgO8fpmVayZ",
        "outputId": "2c233782-91b8-44ac-fd50-788bf645d9d3"
      },
      "execution_count": 5,
      "outputs": [
        {
          "output_type": "execute_result",
          "data": {
            "text/plain": [
              "['Natural language processing (NLP) is a subfield of computer science and especially artificial intelligence.',\n",
              " 'It is primarily concerned with providing computers with the ability to process data encoded in natural language and is thus closely related to information retrieval, knowledge representation and computational linguistics, a subfield of linguistics.',\n",
              " 'Typically data is collected in text corpora, using either rule-based, statistical or neural-based approaches in machine learning and deep learning.']"
            ]
          },
          "metadata": {},
          "execution_count": 5
        }
      ]
    },
    {
      "cell_type": "code",
      "source": [
        "words"
      ],
      "metadata": {
        "colab": {
          "base_uri": "https://localhost:8080/"
        },
        "id": "-YeBQsVAVdkz",
        "outputId": "a530a101-7ee2-400c-917e-0d40b6744fc4"
      },
      "execution_count": 6,
      "outputs": [
        {
          "output_type": "execute_result",
          "data": {
            "text/plain": [
              "['Natural',\n",
              " 'language',\n",
              " 'processing',\n",
              " '(',\n",
              " 'NLP',\n",
              " ')',\n",
              " 'is',\n",
              " 'a',\n",
              " 'subfield',\n",
              " 'of',\n",
              " 'computer',\n",
              " 'science',\n",
              " 'and',\n",
              " 'especially',\n",
              " 'artificial',\n",
              " 'intelligence',\n",
              " '.',\n",
              " 'It',\n",
              " 'is',\n",
              " 'primarily',\n",
              " 'concerned',\n",
              " 'with',\n",
              " 'providing',\n",
              " 'computers',\n",
              " 'with',\n",
              " 'the',\n",
              " 'ability',\n",
              " 'to',\n",
              " 'process',\n",
              " 'data',\n",
              " 'encoded',\n",
              " 'in',\n",
              " 'natural',\n",
              " 'language',\n",
              " 'and',\n",
              " 'is',\n",
              " 'thus',\n",
              " 'closely',\n",
              " 'related',\n",
              " 'to',\n",
              " 'information',\n",
              " 'retrieval',\n",
              " ',',\n",
              " 'knowledge',\n",
              " 'representation',\n",
              " 'and',\n",
              " 'computational',\n",
              " 'linguistics',\n",
              " ',',\n",
              " 'a',\n",
              " 'subfield',\n",
              " 'of',\n",
              " 'linguistics',\n",
              " '.',\n",
              " 'Typically',\n",
              " 'data',\n",
              " 'is',\n",
              " 'collected',\n",
              " 'in',\n",
              " 'text',\n",
              " 'corpora',\n",
              " ',',\n",
              " 'using',\n",
              " 'either',\n",
              " 'rule-based',\n",
              " ',',\n",
              " 'statistical',\n",
              " 'or',\n",
              " 'neural-based',\n",
              " 'approaches',\n",
              " 'in',\n",
              " 'machine',\n",
              " 'learning',\n",
              " 'and',\n",
              " 'deep',\n",
              " 'learning',\n",
              " '.']"
            ]
          },
          "metadata": {},
          "execution_count": 6
        }
      ]
    }
  ]
}